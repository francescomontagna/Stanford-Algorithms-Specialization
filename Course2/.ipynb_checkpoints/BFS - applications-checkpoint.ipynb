{
 "cells": [
  {
   "cell_type": "markdown",
   "metadata": {},
   "source": [
    "__Breadth First Search__"
   ]
  },
  {
   "cell_type": "code",
   "execution_count": 6,
   "metadata": {},
   "outputs": [],
   "source": [
    "# from collections import deque\n",
    "\n",
    "def bfs(graph, source):\n",
    "    \"\"\"\n",
    "    Args:\n",
    "    graph (dict): implementation of graph data structure via dictionary of adjacency list\n",
    "    source (str): node for which we want to explore all findable nodes\n",
    "    \"\"\"\n",
    "    explored = {key : False for key in graph.keys()}\n",
    "    explored[source] = True\n",
    "    \n",
    "    queue = []\n",
    "    queue.append(source)\n",
    "    \n",
    "    while queue: # not empty\n",
    "        layer_node = queue[0]\n",
    "        queue.pop(0)\n",
    "        \n",
    "        edges = graph[layer_node]\n",
    "        for node in edges:\n",
    "            if not explored[node]:\n",
    "                explored[node] = True\n",
    "                queue.append(node)\n",
    "    \n",
    "    return explored"
   ]
  },
  {
   "cell_type": "code",
   "execution_count": 9,
   "metadata": {},
   "outputs": [
    {
     "name": "stdout",
     "output_type": "stream",
     "text": [
      "{'a': False, 'b': False, 'c': False, 'd': False, 'e': True, 'f': True, 'g': True}\n"
     ]
    }
   ],
   "source": [
    "graph = {'a': ['b', 'c'],\n",
    "        'b': ['c', 'd'],\n",
    "        'c': ['a', 'b'],\n",
    "        'd': ['b'],\n",
    "        'e': ['f', 'g'],\n",
    "        'f': ['e', 'g'],\n",
    "        'g': ['e', 'f']}\n",
    "\n",
    "print(bfs(graph, 'f'))"
   ]
  },
  {
   "cell_type": "markdown",
   "metadata": {},
   "source": [
    "__Shortest Path__"
   ]
  },
  {
   "cell_type": "code",
   "execution_count": 16,
   "metadata": {},
   "outputs": [],
   "source": [
    "def shortest_path(graph, source):\n",
    "    \"\"\"\n",
    "    Args:\n",
    "    graph (dict): implementation of graph data structure via dictionary of adjacency list\n",
    "    source (str): node for which we want to explore all shortes paths\n",
    "    \"\"\"\n",
    "    max_dist = 'inf'\n",
    "    explored = {key : [False, max_dist] for key in graph.keys()}\n",
    "    explored[source] = [True, 0]\n",
    "    \n",
    "    queue = []\n",
    "    queue.append(source)\n",
    "    \n",
    "    while queue: # while not empty\n",
    "        layer_node = queue[0]\n",
    "        queue.pop(0)\n",
    "        \n",
    "        edges = graph[layer_node]\n",
    "        for node in edges:\n",
    "            if not explored[node][0]:\n",
    "                distance = explored[layer_node][1] + 1\n",
    "                explored[node] = [True, distance]\n",
    "                queue.append(node)\n",
    "        \n",
    "    return {k : v[1] for k, v in explored.items()}"
   ]
  },
  {
   "cell_type": "code",
   "execution_count": 18,
   "metadata": {},
   "outputs": [
    {
     "name": "stdout",
     "output_type": "stream",
     "text": [
      "{'a': 0, 'b': 1, 'c': 1, 'd': 2, 'e': 'inf', 'f': 'inf', 'g': 'inf'}\n"
     ]
    }
   ],
   "source": [
    "graph = {'a': ['b', 'c'],\n",
    "        'b': ['c', 'd'],\n",
    "        'c': ['a', 'b'],\n",
    "        'd': ['b'],\n",
    "        'e': ['f', 'g'],\n",
    "        'f': ['e', 'g'],\n",
    "        'g': ['e', 'f']}\n",
    "\n",
    "print(shortest_path(graph, 'a'))"
   ]
  },
  {
   "cell_type": "markdown",
   "metadata": {},
   "source": [
    "__Undirected Connectivity__"
   ]
  },
  {
   "cell_type": "code",
   "execution_count": 31,
   "metadata": {},
   "outputs": [],
   "source": [
    "def undirected_connectivtiy(graph):\n",
    "    \"\"\"\n",
    "    Args:\n",
    "    graph (dict): implementation of undirected graph data structure via dictionary of adjacency list\n",
    "    \"\"\"\n",
    "    max_dist = 'inf'\n",
    "    explored = {key : False for key in graph.keys()}\n",
    "\n",
    "    connected_components = [] # list of the connected componetns\n",
    "    \n",
    "    # A connected components is a listy with its elements\n",
    "    \n",
    "    for key in graph.keys():\n",
    "        if not explored[key]: # if current node is unexplored\n",
    "            bool_connected = bfs(graph, key) # list of explored nodes starting from key\n",
    "            cc = [] # connected component\n",
    "            for a, b in zip(explored.items(), bool_connected.items()):\n",
    "                key = a[0]\n",
    "                value = a[1]|b[1] # if one of the 2 is True, mark as explored\n",
    "                \n",
    "                explored[key] = value # update explored\n",
    "                \n",
    "                if b[1]:\n",
    "                    cc.append(key)\n",
    "                \n",
    "            connected_components.append(cc)\n",
    "    \n",
    "    return connected_components"
   ]
  },
  {
   "cell_type": "code",
   "execution_count": 32,
   "metadata": {},
   "outputs": [
    {
     "name": "stdout",
     "output_type": "stream",
     "text": [
      "[['a', 'b', 'c', 'd'], ['e', 'f', 'g']]\n"
     ]
    }
   ],
   "source": [
    "graph = {'a': ['b', 'c'],\n",
    "        'b': ['c', 'd'],\n",
    "        'c': ['a', 'b'],\n",
    "        'd': ['b'],\n",
    "        'e': ['f', 'g'],\n",
    "        'f': ['e', 'g'],\n",
    "        'g': ['e', 'f']}\n",
    "\n",
    "print(undirected_connectivtiy(graph))"
   ]
  }
 ],
 "metadata": {
  "kernelspec": {
   "display_name": "Python 3",
   "language": "python",
   "name": "python3"
  },
  "language_info": {
   "codemirror_mode": {
    "name": "ipython",
    "version": 3
   },
   "file_extension": ".py",
   "mimetype": "text/x-python",
   "name": "python",
   "nbconvert_exporter": "python",
   "pygments_lexer": "ipython3",
   "version": "3.8.3"
  }
 },
 "nbformat": 4,
 "nbformat_minor": 4
}
