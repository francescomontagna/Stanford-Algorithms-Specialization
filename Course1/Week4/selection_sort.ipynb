{
 "cells": [
  {
   "cell_type": "code",
   "execution_count": 9,
   "metadata": {},
   "outputs": [],
   "source": [
    "import random"
   ]
  },
  {
   "cell_type": "code",
   "execution_count": 2,
   "metadata": {},
   "outputs": [],
   "source": [
    "def choose_pivot(ary, l, r):\n",
    "    p_index = random.sample(range(l, r), 1)[0]\n",
    "    return p_index"
   ]
  },
  {
   "cell_type": "code",
   "execution_count": 5,
   "metadata": {},
   "outputs": [],
   "source": [
    "def swap(ary, a, b):\n",
    "    \n",
    "    if a == b:\n",
    "        return ary\n",
    "    \n",
    "    ary[a], ary[b] = ary[b], ary[a]\n",
    "    \n",
    "    return ary"
   ]
  },
  {
   "cell_type": "code",
   "execution_count": 6,
   "metadata": {},
   "outputs": [],
   "source": [
    "def partition(ary):\n",
    "    n = len(ary)\n",
    "    i = 0 # element until i-1 are scanned and smaller than pivot\n",
    "    \n",
    "    p_index = choose_pivot(ary, 0, n)\n",
    "    ary = swap(ary, p_index, n-1)\n",
    "    p_index = n-1 # pivot index\n",
    "\n",
    "    for j in range(n):\n",
    "        if ary[j] < ary[p_index]:\n",
    "            ary = swap(ary, i, j)\n",
    "            i += 1\n",
    "    \n",
    "    ary = swap(ary, i, p_index) # swap with first element larger than the pivot\n",
    "    \n",
    "    return ary, i # return array and pivot index"
   ]
  },
  {
   "cell_type": "code",
   "execution_count": 30,
   "metadata": {},
   "outputs": [],
   "source": [
    "def random_select(ary: list, n: int, i_stat: int): \n",
    "    \"\"\"\n",
    "    :param ary: array from which to select i_stat\n",
    "    :param n: length of the input array\n",
    "    :param i_stat: i_th order statistic to be selected. Start from 0\n",
    "    \"\"\"\n",
    "    \n",
    "    assert i_stat >= 0, (\"i_stat must be equal or greater than 0\")\n",
    "    \n",
    "    if n == 1:\n",
    "        return ary[0]\n",
    "    \n",
    "    ary, p_index = partition(ary)\n",
    "    \n",
    "    if p_index == i_stat:\n",
    "        return ary[p_index]\n",
    "    \n",
    "    if p_index < i_stat:\n",
    "        right_ary = ary[p_index+1 :]\n",
    "        i_stat -= (p_index +1)\n",
    "        value = random_select(right_ary, len(right_ary), i_stat)\n",
    "        return value\n",
    "    \n",
    "    elif p_index > i_stat:\n",
    "        left_ary = ary[0:p_index]\n",
    "        value = random_select(left_ary, len(left_ary), i_stat)\n",
    "        return value\n",
    "    \n",
    "    "
   ]
  },
  {
   "cell_type": "code",
   "execution_count": 32,
   "metadata": {},
   "outputs": [
    {
     "name": "stdout",
     "output_type": "stream",
     "text": [
      "1\n"
     ]
    }
   ],
   "source": [
    "# TODO fix mismatch of indices. Min value accepted should be 1\n",
    "input_array = [1, 4, 6, 2, 3, 5]\n",
    "print(random_select(input_array, len(input_array), 0))"
   ]
  }
 ],
 "metadata": {
  "kernelspec": {
   "display_name": "Python 3",
   "language": "python",
   "name": "python3"
  },
  "language_info": {
   "codemirror_mode": {
    "name": "ipython",
    "version": 3
   },
   "file_extension": ".py",
   "mimetype": "text/x-python",
   "name": "python",
   "nbconvert_exporter": "python",
   "pygments_lexer": "ipython3",
   "version": "3.8.3"
  }
 },
 "nbformat": 4,
 "nbformat_minor": 4
}