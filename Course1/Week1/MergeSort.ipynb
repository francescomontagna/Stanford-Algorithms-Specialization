{
 "cells": [
  {
   "cell_type": "code",
   "execution_count": 11,
   "metadata": {},
   "outputs": [],
   "source": [
    "from math import  floor\n",
    "\n",
    "# Hp: n%2 = 0 ==> n is even\n",
    "# Later, we'll define not even problem\n",
    "\n",
    "def merge(ary1, ary2):\n",
    "    \n",
    "    queue = []\n",
    "    \n",
    "    while len(ary1) > 0 and len(ary2) > 0:\n",
    "\n",
    "        queue.append(min(ary1[0], ary2[0]))\n",
    "        \n",
    "        # delete the number just added to the queue\n",
    "        if ary1[0] < ary2[0]:\n",
    "            del ary1[0] \n",
    "        else:\n",
    "            del ary2[0]\n",
    "    \n",
    "    # if one array is empty, just extende queue with the remaining sorted portion of the other array\n",
    "    if len(ary1) > 0:\n",
    "        queue.extend(ary1)\n",
    "    else:\n",
    "        queue.extend(ary2)\n",
    "        \n",
    "    print(queue)\n",
    "        \n",
    "    return queue\n",
    "    \n",
    "def mergesort(ary):\n",
    "    \n",
    "    if len(ary)==1:\n",
    "        return ary\n",
    "    \n",
    "    else: # split and apply double recursion\n",
    "        n = floor(len(ary)/2)\n",
    "        return merge(mergesort(ary[:n]), mergesort(ary[n:]))"
   ]
  },
  {
   "cell_type": "code",
   "execution_count": 14,
   "metadata": {},
   "outputs": [
    {
     "name": "stdout",
     "output_type": "stream",
     "text": [
      "[1, 3]\n",
      "[2, 6]\n",
      "[1, 2, 3, 6]\n"
     ]
    },
    {
     "data": {
      "text/plain": [
       "[1, 2, 3, 6]"
      ]
     },
     "execution_count": 14,
     "metadata": {},
     "output_type": "execute_result"
    }
   ],
   "source": [
    "mergesort([1, 3, 2, 6])"
   ]
  }
 ],
 "metadata": {
  "kernelspec": {
   "display_name": "Python 3",
   "language": "python",
   "name": "python3"
  },
  "language_info": {
   "codemirror_mode": {
    "name": "ipython",
    "version": 3
   },
   "file_extension": ".py",
   "mimetype": "text/x-python",
   "name": "python",
   "nbconvert_exporter": "python",
   "pygments_lexer": "ipython3",
   "version": "3.8.3"
  }
 },
 "nbformat": 4,
 "nbformat_minor": 4
}
