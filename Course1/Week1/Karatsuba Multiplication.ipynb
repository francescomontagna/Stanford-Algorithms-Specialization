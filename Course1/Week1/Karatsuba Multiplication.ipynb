{
 "cells": [
  {
   "cell_type": "code",
   "execution_count": 1,
   "metadata": {},
   "outputs": [],
   "source": [
    "from math import floor\n",
    "\n",
    "def num_split(num):\n",
    "    str_num = str(num)\n",
    "    index = floor(len(str_num)/2)\n",
    "    \n",
    "    a = int(str_num[0:index])\n",
    "    b = int(str_num[index:])\n",
    "        \n",
    "    return a,b\n",
    "        \n",
    "def karatsuba(x, y):\n",
    "    # split in n/2 parts in case of even\n",
    "    a, b = num_split(x)\n",
    "    c, d = num_split(y)\n",
    "    \n",
    "    ac = a*c\n",
    "    bd = b*d\n",
    "    \n",
    "    mult_sum = (a+b)*(c+d) # ac + ad + bc + bd\n",
    "    \n",
    "    diff = mult_sum - ac - bd # ad + bc\n",
    "    \n",
    "    # final formula is\n",
    "    # 10^n * ac + 10^(n/2) * (ad+bc) + bd\n",
    "    # where n = number of digits of x, y\n",
    "    n = len(str(x))\n",
    "    \n",
    "    \n",
    "    integer_multiplication = 10**(n) * ac + 10**(n/2) * (diff) + bd\n",
    "    \n",
    "    return integer_multiplication"
   ]
  },
  {
   "cell_type": "code",
   "execution_count": 2,
   "metadata": {},
   "outputs": [
    {
     "data": {
      "text/plain": [
       "7006652.0"
      ]
     },
     "execution_count": 2,
     "metadata": {},
     "output_type": "execute_result"
    }
   ],
   "source": [
    "karatsuba(1234, 5678)"
   ]
  },
  {
   "cell_type": "code",
   "execution_count": 13,
   "metadata": {},
   "outputs": [],
   "source": [
    "def recursive_integer_mult(x, y): # odd numbers\n",
    "    threshold = 1 # stop recursion for n = threshold\n",
    "    \n",
    "    if len(str(x)) == 1 or len(str(y)) == 1:\n",
    "        return x*y\n",
    "    else:\n",
    "        \n",
    "        n = max(len(str(x)),len(str(y)))\n",
    "\n",
    "        a, b = num_split(x)\n",
    "        c, d = num_split(y)\n",
    "\n",
    "        ac = recursive_integer_mult(a, c)\n",
    "        ad = recursive_integer_mult(a, d)\n",
    "        bc = recursive_integer_mult(b, c)\n",
    "        bd = recursive_integer_mult(b, d)\n",
    "\n",
    "        integer_multiplication = ac*10**(n) +  (ad+bc)*10**(n/2) + bd\n",
    "\n",
    "        return integer_multiplication"
   ]
  },
  {
   "cell_type": "code",
   "execution_count": 7,
   "metadata": {},
   "outputs": [
    {
     "data": {
      "text/plain": [
       "672.0"
      ]
     },
     "execution_count": 7,
     "metadata": {},
     "output_type": "execute_result"
    }
   ],
   "source": [
    "recursive_integer_mult(1234, 5678)"
   ]
  },
  {
   "cell_type": "code",
   "execution_count": 36,
   "metadata": {},
   "outputs": [],
   "source": [
    "def num_split(num):\n",
    "    str_num = str(num)\n",
    "    index = floor(len(str_num)/2)\n",
    "    \n",
    "    if index > 0:\n",
    "        a = int(str_num[0:index])\n",
    "        b = int(str_num[index:])\n",
    "    else:\n",
    "        a = 0 # zero pad\n",
    "        b = int(str_num[index:])\n",
    "    \n",
    "    return (a,b)\n",
    "\n",
    "\n",
    "def recursive_karatsuba(x, y): # odd numbers\n",
    "    threshold = 1 # stop recursion for n = threshold\n",
    "    \n",
    "    if min(len(str(x)), len(str(y))) == 1:\n",
    "        return x*y\n",
    "    else:\n",
    "        \n",
    "        n = len(str(x))\n",
    "        \n",
    "        a, b = num_split(x)\n",
    "        c, d = num_split(y)\n",
    "\n",
    "        ac = recursive_integer_mult(a, c)\n",
    "        ad = recursive_integer_mult(a, d)\n",
    "        bc = recursive_integer_mult(b, c)\n",
    "        bd = recursive_integer_mult(b, d)\n",
    "\n",
    "        integer_multiplication = ac*10**(n) +  (ad+bc)*10**(n/2) + bd\n",
    "\n",
    "        return integer_multiplication"
   ]
  },
  {
   "cell_type": "code",
   "execution_count": 37,
   "metadata": {},
   "outputs": [
    {
     "data": {
      "text/plain": [
       "7006652.0"
      ]
     },
     "execution_count": 37,
     "metadata": {},
     "output_type": "execute_result"
    }
   ],
   "source": [
    "recursive_karatsuba(1234, 5678)"
   ]
  },
  {
   "cell_type": "code",
   "execution_count": 46,
   "metadata": {},
   "outputs": [
    {
     "name": "stdout",
     "output_type": "stream",
     "text": [
      "-7.307508186654515e+47\n",
      "2889980525263546903279323947615179491360625540447477568383221760\n"
     ]
    },
    {
     "data": {
      "text/plain": [
       "False"
      ]
     },
     "execution_count": 46,
     "metadata": {},
     "output_type": "execute_result"
    }
   ],
   "source": [
    "def test(a, b):\n",
    "    karatsuba = recursive_integer_mult(a,b)\n",
    "    default = a*b\n",
    "    \n",
    "    print(default-karatsuba)\n",
    "    \n",
    "    print(\"%64.f\" %karatsuba)\n",
    "    \n",
    "    return (default -karatsuba == 0)\n",
    "\n",
    "test(32213456322134563221345632213456, 89713456897134568971345689713456)\n",
    "\n"
   ]
  }
 ],
 "metadata": {
  "kernelspec": {
   "display_name": "Python 3",
   "language": "python",
   "name": "python3"
  },
  "language_info": {
   "codemirror_mode": {
    "name": "ipython",
    "version": 3
   },
   "file_extension": ".py",
   "mimetype": "text/x-python",
   "name": "python",
   "nbconvert_exporter": "python",
   "pygments_lexer": "ipython3",
   "version": "3.8.2"
  }
 },
 "nbformat": 4,
 "nbformat_minor": 4
}
