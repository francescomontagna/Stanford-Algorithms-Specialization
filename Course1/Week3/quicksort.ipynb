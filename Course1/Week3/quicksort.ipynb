{
 "cells": [
  {
   "cell_type": "code",
   "execution_count": 1,
   "metadata": {},
   "outputs": [],
   "source": [
    "# Question: why does not work if random pivot is not swapped with an extreme position?"
   ]
  },
  {
   "cell_type": "code",
   "execution_count": 2,
   "metadata": {},
   "outputs": [],
   "source": [
    "import random"
   ]
  },
  {
   "cell_type": "code",
   "execution_count": 3,
   "metadata": {},
   "outputs": [],
   "source": [
    "def swap(ary, a, b):\n",
    "    \n",
    "    if a == b:\n",
    "        return ary\n",
    "    \n",
    "    ary[a], ary[b] = ary[b], ary[a]\n",
    "    \n",
    "    return ary"
   ]
  },
  {
   "cell_type": "code",
   "execution_count": 4,
   "metadata": {},
   "outputs": [],
   "source": [
    "def quicksort(ary, left, right): # right is exclusive\n",
    "    \n",
    "    if left >= right - 1: # check this -1\n",
    "        return ary\n",
    "    \n",
    "    ary, p_index = partition(ary, left, right) # partition only sub array from left to right\n",
    "    ary = quicksort(ary, left, p_index)\n",
    "    ary = quicksort(ary, p_index +1, right)\n",
    "    \n",
    "    return ary"
   ]
  },
  {
   "cell_type": "code",
   "execution_count": 5,
   "metadata": {},
   "outputs": [],
   "source": [
    "def partition(ary, left, right):\n",
    "    i = left # element until i-1 are scanned and smaller than pivot\n",
    "    \n",
    "    p_index = choose_pivot(ary, left, right)\n",
    "    ary = swap(ary, p_index, right-1)\n",
    "    p_index = right-1 # pivot index\n",
    "\n",
    "    for j in range(left, right):\n",
    "        if ary[j] < ary[p_index]:\n",
    "            ary = swap(ary, i, j)\n",
    "            i += 1\n",
    "    \n",
    "    ary = swap(ary, i, p_index) # swap with first element larger than the pivot\n",
    "    \n",
    "    return ary, i"
   ]
  },
  {
   "cell_type": "code",
   "execution_count": 6,
   "metadata": {},
   "outputs": [],
   "source": [
    "def choose_pivot(ary, l, r):\n",
    "    p_index = random.sample(range(l, r), 1)[0]\n",
    "    return p_index"
   ]
  },
  {
   "cell_type": "code",
   "execution_count": 7,
   "metadata": {},
   "outputs": [
    {
     "data": {
      "text/plain": [
       "[1, 5, 7, 8, 9, 9, 10]"
      ]
     },
     "execution_count": 7,
     "metadata": {},
     "output_type": "execute_result"
    }
   ],
   "source": [
    "ary = [10, 7, 8, 9, 9, 1, 5]\n",
    "n = len(ary)\n",
    "quicksort(ary, 0, n)"
   ]
  }
 ],
 "metadata": {
  "kernelspec": {
   "display_name": "Python 3",
   "language": "python",
   "name": "python3"
  },
  "language_info": {
   "codemirror_mode": {
    "name": "ipython",
    "version": 3
   },
   "file_extension": ".py",
   "mimetype": "text/x-python",
   "name": "python",
   "nbconvert_exporter": "python",
   "pygments_lexer": "ipython3",
   "version": "3.8.3"
  }
 },
 "nbformat": 4,
 "nbformat_minor": 4
}
