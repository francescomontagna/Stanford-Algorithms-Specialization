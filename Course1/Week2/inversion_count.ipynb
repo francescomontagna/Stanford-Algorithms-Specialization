{
 "cells": [
  {
   "cell_type": "code",
   "execution_count": 44,
   "metadata": {},
   "outputs": [],
   "source": [
    "# Implementation of recursive inversion count algorithm\n",
    "# E.g. of applications ==> reccomandation system: \"People who like this also like that\", by comparison of liked product\n",
    "# in your list, and the list of your cluster\n",
    "\n",
    "import numpy as np\n",
    "from math import floor, ceil\n",
    "\n",
    "def sort_count(A: np.array, n: int):\n",
    "\n",
    "    # end case\n",
    "    if n == 1:\n",
    "        return A, 0\n",
    "    else:\n",
    "        left = A[:floor(n/2)]\n",
    "        right = A[floor(n/2):]\n",
    "        \n",
    "        # recursive calls\n",
    "        B, x = sort_count(left, floor(n/2)) # x = left inversions\n",
    "        C, y = sort_count(right, ceil(n/2)) # y = right inversions\n",
    "        \n",
    "        # merge\n",
    "        D, z = merge_count_inv(B, C, n)\n",
    "        \n",
    "        return D, x+y+z # return the sorted array and the slit inversion counted\n",
    "    \n",
    "def merge_count_inv(B, C, n):\n",
    "    \n",
    "    split_inv_counter = 0\n",
    "    i = j = 0\n",
    "    output = []\n",
    "    \n",
    "    for k in range(n):\n",
    "        \n",
    "        if i >= len(B):\n",
    "            output.append(C[j])\n",
    "            j+= 1\n",
    "        elif j >= len(C):\n",
    "            output.append(B[i])\n",
    "            i += 1   \n",
    "            \n",
    "        elif B[i] < C[j]:\n",
    "            output.append(B[i])\n",
    "            i += 1\n",
    "        elif C[j] < B[i]:\n",
    "            output.append(C[j])\n",
    "            j += 1\n",
    "            split_inv_counter += len(B[i:])\n",
    "        elif C[j] == B[i]:\n",
    "            output.append(C[j])\n",
    "            j += 1\n",
    "                    \n",
    "            \n",
    "    return output, split_inv_counter"
   ]
  },
  {
   "cell_type": "code",
   "execution_count": 48,
   "metadata": {},
   "outputs": [
    {
     "name": "stdout",
     "output_type": "stream",
     "text": [
      "Sorted input array: [1, 2, 3, 4, 5]\n",
      "Number of inversions: 3\n"
     ]
    }
   ],
   "source": [
    "A = np.array([1, 3, 5, 2, 4])\n",
    "sorted_A, num_inv = sort_count(A, A.shape[0])\n",
    "print(f\"Sorted input array: {sorted_A}\")\n",
    "print(f\"Number of inversions: {num_inv}\")"
   ]
  },
  {
   "cell_type": "code",
   "execution_count": 13,
   "metadata": {},
   "outputs": [],
   "source": [
    "with open(\"IntegerArray.txt\", 'r') as f:\n",
    "    integer_array = list(map(int, f.read().splitlines()))\n",
    "    \n",
    "integer_array = np.array(integer_array)"
   ]
  },
  {
   "cell_type": "code",
   "execution_count": 50,
   "metadata": {},
   "outputs": [
    {
     "name": "stdout",
     "output_type": "stream",
     "text": [
      "Wall time: 12.5 s\n"
     ]
    }
   ],
   "source": [
    "%%time\n",
    "sorted_ary, num_inv = sort_count(integer_array, integer_array.shape[0])"
   ]
  },
  {
   "cell_type": "code",
   "execution_count": 51,
   "metadata": {},
   "outputs": [
    {
     "name": "stdout",
     "output_type": "stream",
     "text": [
      "Number of inversions: 2407905288\n"
     ]
    }
   ],
   "source": [
    "# print(f\"Sorted input array: {sorted_ary}\")\n",
    "print(f\"Number of inversions: {num_inv}\") # correct"
   ]
  }
 ],
 "metadata": {
  "kernelspec": {
   "display_name": "Python 3",
   "language": "python",
   "name": "python3"
  },
  "language_info": {
   "codemirror_mode": {
    "name": "ipython",
    "version": 3
   },
   "file_extension": ".py",
   "mimetype": "text/x-python",
   "name": "python",
   "nbconvert_exporter": "python",
   "pygments_lexer": "ipython3",
   "version": "3.8.3"
  }
 },
 "nbformat": 4,
 "nbformat_minor": 4
}
